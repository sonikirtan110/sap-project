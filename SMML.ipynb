{
 "cells": [
  {
   "cell_type": "code",
   "execution_count": 1,
   "id": "07c25683-6a3d-42c7-b95a-834da93a8577",
   "metadata": {},
   "outputs": [],
   "source": [
    "import pandas as pd\n",
    "import numpy as np\n",
    "from sklearn.model_selection import train_test_split, cross_val_score\n",
    "from sklearn.preprocessing import StandardScaler, OneHotEncoder\n",
    "from sklearn.pipeline import Pipeline\n",
    "from sklearn.compose import ColumnTransformer\n",
    "from sklearn.metrics import mean_absolute_error\n",
    "\n",
    "# Load dataset\n",
    "df = pd.read_csv('social_media_data.csv')"
   ]
  },
  {
   "cell_type": "code",
   "execution_count": 2,
   "id": "14e639c7-9e94-472c-806c-388a33bf7ed3",
   "metadata": {},
   "outputs": [
    {
     "data": {
      "text/html": [
       "<div>\n",
       "<style scoped>\n",
       "    .dataframe tbody tr th:only-of-type {\n",
       "        vertical-align: middle;\n",
       "    }\n",
       "\n",
       "    .dataframe tbody tr th {\n",
       "        vertical-align: top;\n",
       "    }\n",
       "\n",
       "    .dataframe thead th {\n",
       "        text-align: right;\n",
       "    }\n",
       "</style>\n",
       "<table border=\"1\" class=\"dataframe\">\n",
       "  <thead>\n",
       "    <tr style=\"text-align: right;\">\n",
       "      <th></th>\n",
       "      <th>Age</th>\n",
       "      <th>Gender</th>\n",
       "      <th>Country</th>\n",
       "      <th>SocialMediaTime</th>\n",
       "      <th>EntertainmentTime</th>\n",
       "      <th>PlatformsUsed</th>\n",
       "      <th>PrimaryPlatform</th>\n",
       "      <th>MessagingTime</th>\n",
       "      <th>VideoTime</th>\n",
       "      <th>GamingTime</th>\n",
       "      <th>...</th>\n",
       "      <th>FatigueLevel</th>\n",
       "      <th>NewsTime</th>\n",
       "      <th>AdInteraction</th>\n",
       "      <th>LearningTime</th>\n",
       "      <th>TechSavviness</th>\n",
       "      <th>PreferredDevice</th>\n",
       "      <th>DigitalWellbeing</th>\n",
       "      <th>SleepQuality</th>\n",
       "      <th>SocialIsolation</th>\n",
       "      <th>EntertainmentSpending</th>\n",
       "    </tr>\n",
       "  </thead>\n",
       "  <tbody>\n",
       "    <tr>\n",
       "      <th>0</th>\n",
       "      <td>32</td>\n",
       "      <td>Other</td>\n",
       "      <td>Germany</td>\n",
       "      <td>4.35</td>\n",
       "      <td>4.08</td>\n",
       "      <td>5</td>\n",
       "      <td>TikTok</td>\n",
       "      <td>0.35</td>\n",
       "      <td>5.43</td>\n",
       "      <td>4.68</td>\n",
       "      <td>...</td>\n",
       "      <td>2</td>\n",
       "      <td>2.82</td>\n",
       "      <td>20</td>\n",
       "      <td>4.11</td>\n",
       "      <td>9</td>\n",
       "      <td>Tablet</td>\n",
       "      <td>Moderate</td>\n",
       "      <td>7</td>\n",
       "      <td>8</td>\n",
       "      <td>33.04</td>\n",
       "    </tr>\n",
       "    <tr>\n",
       "      <th>1</th>\n",
       "      <td>62</td>\n",
       "      <td>Other</td>\n",
       "      <td>India</td>\n",
       "      <td>4.96</td>\n",
       "      <td>4.21</td>\n",
       "      <td>2</td>\n",
       "      <td>YouTube</td>\n",
       "      <td>2.55</td>\n",
       "      <td>4.22</td>\n",
       "      <td>0.41</td>\n",
       "      <td>...</td>\n",
       "      <td>5</td>\n",
       "      <td>0.32</td>\n",
       "      <td>26</td>\n",
       "      <td>4.59</td>\n",
       "      <td>9</td>\n",
       "      <td>PC</td>\n",
       "      <td>Low</td>\n",
       "      <td>8</td>\n",
       "      <td>2</td>\n",
       "      <td>497.78</td>\n",
       "    </tr>\n",
       "    <tr>\n",
       "      <th>2</th>\n",
       "      <td>51</td>\n",
       "      <td>Female</td>\n",
       "      <td>USA</td>\n",
       "      <td>6.78</td>\n",
       "      <td>1.77</td>\n",
       "      <td>4</td>\n",
       "      <td>Facebook</td>\n",
       "      <td>2.09</td>\n",
       "      <td>1.09</td>\n",
       "      <td>4.38</td>\n",
       "      <td>...</td>\n",
       "      <td>3</td>\n",
       "      <td>1.25</td>\n",
       "      <td>47</td>\n",
       "      <td>0.66</td>\n",
       "      <td>9</td>\n",
       "      <td>Tablet</td>\n",
       "      <td>High</td>\n",
       "      <td>5</td>\n",
       "      <td>3</td>\n",
       "      <td>71.72</td>\n",
       "    </tr>\n",
       "    <tr>\n",
       "      <th>3</th>\n",
       "      <td>44</td>\n",
       "      <td>Female</td>\n",
       "      <td>India</td>\n",
       "      <td>5.06</td>\n",
       "      <td>9.21</td>\n",
       "      <td>3</td>\n",
       "      <td>YouTube</td>\n",
       "      <td>3.69</td>\n",
       "      <td>4.80</td>\n",
       "      <td>4.82</td>\n",
       "      <td>...</td>\n",
       "      <td>1</td>\n",
       "      <td>2.65</td>\n",
       "      <td>22</td>\n",
       "      <td>3.44</td>\n",
       "      <td>7</td>\n",
       "      <td>Tablet</td>\n",
       "      <td>Low</td>\n",
       "      <td>9</td>\n",
       "      <td>9</td>\n",
       "      <td>129.62</td>\n",
       "    </tr>\n",
       "    <tr>\n",
       "      <th>4</th>\n",
       "      <td>21</td>\n",
       "      <td>Other</td>\n",
       "      <td>Germany</td>\n",
       "      <td>2.57</td>\n",
       "      <td>1.30</td>\n",
       "      <td>4</td>\n",
       "      <td>TikTok</td>\n",
       "      <td>3.97</td>\n",
       "      <td>2.74</td>\n",
       "      <td>4.40</td>\n",
       "      <td>...</td>\n",
       "      <td>4</td>\n",
       "      <td>1.44</td>\n",
       "      <td>42</td>\n",
       "      <td>4.14</td>\n",
       "      <td>7</td>\n",
       "      <td>Smart TV</td>\n",
       "      <td>Low</td>\n",
       "      <td>5</td>\n",
       "      <td>9</td>\n",
       "      <td>35.90</td>\n",
       "    </tr>\n",
       "  </tbody>\n",
       "</table>\n",
       "<p>5 rows × 34 columns</p>\n",
       "</div>"
      ],
      "text/plain": [
       "   Age  Gender  Country  SocialMediaTime  EntertainmentTime  PlatformsUsed  \\\n",
       "0   32   Other  Germany             4.35               4.08              5   \n",
       "1   62   Other    India             4.96               4.21              2   \n",
       "2   51  Female      USA             6.78               1.77              4   \n",
       "3   44  Female    India             5.06               9.21              3   \n",
       "4   21   Other  Germany             2.57               1.30              4   \n",
       "\n",
       "  PrimaryPlatform  MessagingTime  VideoTime  GamingTime  ... FatigueLevel  \\\n",
       "0          TikTok           0.35       5.43        4.68  ...            2   \n",
       "1         YouTube           2.55       4.22        0.41  ...            5   \n",
       "2        Facebook           2.09       1.09        4.38  ...            3   \n",
       "3         YouTube           3.69       4.80        4.82  ...            1   \n",
       "4          TikTok           3.97       2.74        4.40  ...            4   \n",
       "\n",
       "   NewsTime  AdInteraction  LearningTime  TechSavviness  PreferredDevice  \\\n",
       "0      2.82             20          4.11              9           Tablet   \n",
       "1      0.32             26          4.59              9               PC   \n",
       "2      1.25             47          0.66              9           Tablet   \n",
       "3      2.65             22          3.44              7           Tablet   \n",
       "4      1.44             42          4.14              7         Smart TV   \n",
       "\n",
       "   DigitalWellbeing  SleepQuality  SocialIsolation  EntertainmentSpending  \n",
       "0          Moderate             7                8                  33.04  \n",
       "1               Low             8                2                 497.78  \n",
       "2              High             5                3                  71.72  \n",
       "3               Low             9                9                 129.62  \n",
       "4               Low             5                9                  35.90  \n",
       "\n",
       "[5 rows x 34 columns]"
      ]
     },
     "execution_count": 2,
     "metadata": {},
     "output_type": "execute_result"
    }
   ],
   "source": [
    "df.head()"
   ]
  },
  {
   "cell_type": "code",
   "execution_count": 3,
   "id": "5cd59d49-b390-489f-a9a4-1d85fd81df67",
   "metadata": {},
   "outputs": [
    {
     "data": {
      "text/plain": [
       "(300000, 34)"
      ]
     },
     "execution_count": 3,
     "metadata": {},
     "output_type": "execute_result"
    }
   ],
   "source": [
    "df.shape"
   ]
  },
  {
   "cell_type": "code",
   "execution_count": 4,
   "id": "995da786-a4ce-49a7-a5dc-e9c7f8de9dff",
   "metadata": {},
   "outputs": [],
   "source": [
    "# Identify categorical and numerical columns\n",
    "categorical_cols = df.select_dtypes(include=['object']).columns.tolist()\n",
    "numerical_cols = df.select_dtypes(include=['int64', 'float64']).columns.tolist()"
   ]
  },
  {
   "cell_type": "code",
   "execution_count": 5,
   "id": "2409d0a0-bcf3-4e1a-9b7e-72ca3d6a1609",
   "metadata": {},
   "outputs": [],
   "source": [
    "# Ensure target variable is removed from features\n",
    "if 'FatigueLevel' in numerical_cols:\n",
    "    numerical_cols.remove('FatigueLevel')"
   ]
  },
  {
   "cell_type": "code",
   "execution_count": 6,
   "id": "9ad83516-f721-4f12-b3f4-9f947a1c272e",
   "metadata": {},
   "outputs": [],
   "source": [
    "# Split data\n",
    "X = df.drop(columns=['FatigueLevel'])\n",
    "y = df['FatigueLevel']\n",
    "X_train, X_test, y_train, y_test = train_test_split(X, y, test_size=0.2, random_state=123)\n"
   ]
  },
  {
   "cell_type": "code",
   "execution_count": 7,
   "id": "a2da2ebd-dbac-42b8-a7d3-9e21e843709f",
   "metadata": {},
   "outputs": [],
   "source": [
    "# Preprocessing pipeline\n",
    "preprocessor = ColumnTransformer(transformers=[\n",
    "    ('num', StandardScaler(), numerical_cols),\n",
    "    ('cat', OneHotEncoder(handle_unknown='ignore'), categorical_cols)\n",
    "])\n"
   ]
  },
  {
   "cell_type": "markdown",
   "id": "5c187052-15b0-456d-b81e-5fbb90277b4c",
   "metadata": {},
   "source": [
    "## 2. Random Forest Model"
   ]
  },
  {
   "cell_type": "code",
   "execution_count": null,
   "id": "d23c05b5-5133-43b3-876a-6a8b8723c1ed",
   "metadata": {},
   "outputs": [],
   "source": [
    "from sklearn.ensemble import RandomForestRegressor\n",
    "\n",
    "# Define model pipeline\n",
    "rf_model = Pipeline([\n",
    "    ('preprocessor', preprocessor),\n",
    "    ('model', RandomForestRegressor(random_state=123))\n",
    "])\n",
    "\n",
    "# Train and evaluate\n",
    "rf_model.fit(X_train, y_train)\n",
    "rf_pred = rf_model.predict(X_test)\n",
    "rf_mae = mean_absolute_error(y_test, rf_pred)\n",
    "print(f\"Random Forest MAE: {rf_mae:.4f}\")"
   ]
  },
  {
   "cell_type": "markdown",
   "id": "a8c595d4-635f-4ee9-884d-533d18d55e50",
   "metadata": {},
   "source": [
    "## 3. Gradient Boosting Model"
   ]
  },
  {
   "cell_type": "code",
   "execution_count": null,
   "id": "3fc508b7-00bb-4da6-a067-cac8ef866398",
   "metadata": {},
   "outputs": [],
   "source": [
    "from sklearn.ensemble import GradientBoostingRegressor\n",
    "\n",
    "gb_model = Pipeline([\n",
    "    ('preprocessor', preprocessor),\n",
    "    ('model', GradientBoostingRegressor(random_state=123))\n",
    "])\n",
    "\n",
    "gb_model.fit(X_train, y_train)\n",
    "gb_pred = gb_model.predict(X_test)\n",
    "gb_mae = mean_absolute_error(y_test, gb_pred)\n",
    "print(f\"Gradient Boosting MAE: {gb_mae:.4f}\")\n"
   ]
  },
  {
   "cell_type": "markdown",
   "id": "99b297ad-1688-4e8c-b19e-423d91061b94",
   "metadata": {},
   "source": [
    "## 4. Linear Regression Model"
   ]
  },
  {
   "cell_type": "code",
   "execution_count": null,
   "id": "f01d00a5-977a-4d51-98c8-5f2926e5f4ad",
   "metadata": {},
   "outputs": [],
   "source": [
    "from sklearn.linear_model import LinearRegression\n",
    "\n",
    "lr_model = Pipeline([\n",
    "    ('preprocessor', preprocessor),\n",
    "    ('model', LinearRegression())\n",
    "])\n",
    "\n",
    "lr_model.fit(X_train, y_train)\n",
    "lr_pred = lr_model.predict(X_test)\n",
    "lr_mae = mean_absolute_error(y_test, lr_pred)\n",
    "print(f\"Linear Regression MAE: {lr_mae:.4f}\")\n"
   ]
  },
  {
   "cell_type": "markdown",
   "id": "f027ec07-4560-4d58-9969-7973c54f56ca",
   "metadata": {},
   "source": [
    "## 5. Support Vector Regression (SVR)"
   ]
  },
  {
   "cell_type": "code",
   "execution_count": null,
   "id": "8da6dcb7-b537-4d43-8fc9-cc65204d9f96",
   "metadata": {},
   "outputs": [],
   "source": [
    "from sklearn.svm import SVR\n",
    "\n",
    "svr_model = Pipeline([\n",
    "    ('preprocessor', preprocessor),\n",
    "    ('model', SVR())\n",
    "])\n",
    "\n",
    "svr_model.fit(X_train, y_train)\n",
    "svr_pred = svr_model.predict(X_test)\n",
    "svr_mae = mean_absolute_error(y_test, svr_pred)\n",
    "print(f\"SVR MAE: {svr_mae:.4f}\")\n"
   ]
  },
  {
   "cell_type": "markdown",
   "id": "48861f83",
   "metadata": {},
   "source": [
    "## Compare Model Performance"
   ]
  },
  {
   "cell_type": "code",
   "execution_count": null,
   "id": "3e93a566-68e4-4798-a1f2-1ed054e7df03",
   "metadata": {},
   "outputs": [],
   "source": [
    "# Compare MAE of all models\n",
    "mae_scores = {\n",
    "    \"Random Forest\": rf_mae,\n",
    "    \"Gradient Boosting\": gb_mae,\n",
    "    \"Linear Regression\": lr_mae,\n",
    "    \"SVR\": svr_mae\n",
    "}\n",
    "\n",
    "# Display model performances\n",
    "for model_name, mae in mae_scores.items():\n",
    "    print(f\"{model_name}: MAE = {mae:.4f}\")\n",
    "\n",
    "# Select the model with the lowest MAE\n",
    "best_model_name = min(mae_scores, key=mae_scores.get)\n",
    "print(f\"\\n✅ Best Model: {best_model_name} with MAE = {mae_scores[best_model_name]:.4f}\")\n"
   ]
  },
  {
   "cell_type": "markdown",
   "id": "001e3263",
   "metadata": {},
   "source": [
    "## Select the Best Model"
   ]
  },
  {
   "cell_type": "code",
   "execution_count": null,
   "id": "0e5519fc",
   "metadata": {},
   "outputs": [],
   "source": [
    "# Assign the best model based on MAE\n",
    "if best_model_name == \"Random Forest\":\n",
    "    best_model = rf_model\n",
    "elif best_model_name == \"Gradient Boosting\":\n",
    "    best_model = gb_model\n",
    "elif best_model_name == \"Linear Regression\":\n",
    "    best_model = lr_model\n",
    "else:\n",
    "    best_model = svr_model\n"
   ]
  },
  {
   "cell_type": "markdown",
   "id": "11a6c81b",
   "metadata": {},
   "source": [
    "## Save the Best Model for Future Use"
   ]
  },
  {
   "cell_type": "code",
   "execution_count": null,
   "id": "2c3c7fb8",
   "metadata": {},
   "outputs": [],
   "source": [
    "import joblib\n",
    "\n",
    "# Save the best model to a file\n",
    "joblib.dump(best_model, 'best_fatigue_model.pkl')\n",
    "print(\"✅ Best model saved as 'best_fatigue_model.pkl'\")\n"
   ]
  },
  {
   "cell_type": "markdown",
   "id": "601f0ede",
   "metadata": {},
   "source": [
    "## Make Predictions with New Data"
   ]
  },
  {
   "cell_type": "markdown",
   "id": "d11a98a5",
   "metadata": {},
   "source": [
    "# Example new data (replace with real data)\n",
    "new_data = X_test.iloc[:5]  # Using first 5 samples from test data for demonstration\n",
    "\n",
    "# Make predictions\n",
    "new_predictions = best_model.predict(new_data)\n",
    "print(\"\\nPredictions for New Data:\")\n",
    "print(new_predictions)\n"
   ]
  },
  {
   "cell_type": "markdown",
   "id": "0f85876a",
   "metadata": {},
   "source": [
    "## Visualize Results \n"
   ]
  },
  {
   "cell_type": "markdown",
   "id": "cdb81b00",
   "metadata": {},
   "source": [
    "import matplotlib.pyplot as plt\n",
    "\n",
    "# Compare actual vs predicted fatigue levels\n",
    "plt.figure(figsize=(8, 5))\n",
    "plt.plot(y_test.values[:20], label='Actual Fatigue Level', marker='o')\n",
    "plt.plot(best_model.predict(X_test)[:20], label='Predicted Fatigue Level', marker='x')\n",
    "plt.title('Actual vs Predicted Fatigue Level')\n",
    "plt.xlabel('Sample Index')\n",
    "plt.ylabel('Fatigue Level')\n",
    "plt.legend()\n",
    "plt.grid()\n",
    "plt.show()\n"
   ]
  }
 ],
 "metadata": {
  "kernelspec": {
   "display_name": "Python 3",
   "language": "python",
   "name": "python3"
  },
  "language_info": {
   "codemirror_mode": {
    "name": "ipython",
    "version": 3
   },
   "file_extension": ".py",
   "mimetype": "text/x-python",
   "name": "python",
   "nbconvert_exporter": "python",
   "pygments_lexer": "ipython3",
   "version": "3.12.4"
  }
 },
 "nbformat": 4,
 "nbformat_minor": 5
}
